{
 "cells": [
  {
   "cell_type": "code",
   "execution_count": null,
   "metadata": {
    "id": "Njm8ixFOP38b"
   },
   "outputs": [],
   "source": [
    "from catboost import CatBoostClassifier\n",
    "import pandas as pd\n",
    "from sklearn import preprocessing \n",
    "from sklearn.model_selection import train_test_split"
   ]
  },
  {
   "cell_type": "code",
   "execution_count": null,
   "metadata": {
    "id": "ISRVFje6QymB"
   },
   "outputs": [],
   "source": [
    "# Read the Dataset\n",
    "dataset = pd.read_csv(\"/usr/local/notebooks/datasets/iris.csv\")\n",
    "\n",
    "label_encoder = preprocessing.LabelEncoder()\n",
    "dataset[\"species\"]= label_encoder.fit_transform(dataset[\"species\"]) # Encoding Output Variable\n",
    "# Separating the Input and Output Columns\n",
    "X = dataset[[\"sepal_length\", \"sepal_width\", \"petal_length\", \"petal_width\"]]\n",
    "y = dataset[\"species\"]\n",
    "X_train, X_test, y_train, y_test = train_test_split(X, y, random_state=0, train_size=0.7)"
   ]
  },
  {
   "cell_type": "markdown",
   "metadata": {
    "id": "rxQeg2gnRWgk"
   },
   "source": [
    "In the above code, we load the dataset and then encode the target variable. <br>\n"
   ]
  },
  {
   "cell_type": "code",
   "execution_count": null,
   "metadata": {
    "id": "xmGI2NPA-G_B"
   },
   "outputs": [],
   "source": [
    "clf = CatBoostClassifier(iterations=2,\n",
    "                           max_depth=2,\n",
    "                           learning_rate=1,\n",
    "                           verbose=True)"
   ]
  },
  {
   "cell_type": "markdown",
   "metadata": {
    "id": "acwYQrqx_9ck"
   },
   "source": [
    "In the above cell we construct the CatBoostClassifier."
   ]
  },
  {
   "cell_type": "code",
   "execution_count": null,
   "metadata": {
    "colab": {
     "base_uri": "https://localhost:8080/",
     "height": 69
    },
    "id": "iqCjehJCQyrX",
    "outputId": "fe454b8f-5d2c-4faf-8a69-b284f5266416"
   },
   "outputs": [
    {
     "name": "stdout",
     "output_type": "stream",
     "text": [
      "0:\tlearn: 0.3190791\ttotal: 46.4ms\tremaining: 46.4ms\n",
      "1:\tlearn: 0.2234335\ttotal: 47.1ms\tremaining: 0us\n",
      "The accuracy on test set is 0.96\n"
     ]
    }
   ],
   "source": [
    "clf.fit(X_train,y_train)\n",
    "y_pred = clf.predict(X_test)\n",
    "y_pred = y_pred.flatten().tolist()\n",
    "print(\"The accuracy on test set is {0:.2f}\".format(clf.score(X_test, y_test)))"
   ]
  },
  {
   "cell_type": "markdown",
   "metadata": {
    "id": "Wc1y6Hv-C1_R"
   },
   "source": [
    "1. On line 1 we fit the CatBoostClassifier. \n",
    "2. On line 3, we are converting the Numpy array to list after flattening it. \n",
    "3. On line 4, we print the accuracy of the model on the Test set. "
   ]
  },
  {
   "cell_type": "code",
   "execution_count": null,
   "metadata": {
    "id": "Lw-5ZomR_J0x"
   },
   "outputs": [],
   "source": []
  }
 ],
 "metadata": {
  "colab": {
   "collapsed_sections": [],
   "name": "CatBoost.ipynb",
   "provenance": []
  },
  "kernelspec": {
   "display_name": "Python 3 (ipykernel)",
   "language": "python",
   "name": "python3"
  },
  "language_info": {
   "codemirror_mode": {
    "name": "ipython",
    "version": 3
   },
   "file_extension": ".py",
   "mimetype": "text/x-python",
   "name": "python",
   "nbconvert_exporter": "python",
   "pygments_lexer": "ipython3",
   "version": "3.8.10"
  }
 },
 "nbformat": 4,
 "nbformat_minor": 1
}
